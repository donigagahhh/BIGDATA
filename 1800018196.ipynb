{
  "nbformat": 4,
  "nbformat_minor": 0,
  "metadata": {
    "colab": {
      "name": "Untitled0.ipynb",
      "provenance": [],
      "collapsed_sections": [],
      "toc_visible": true,
      "authorship_tag": "ABX9TyOydDjVvumTM9KEhg2jfar6",
      "include_colab_link": true
    },
    "kernelspec": {
      "name": "python3",
      "display_name": "Python 3"
    }
  },
  "cells": [
    {
      "cell_type": "markdown",
      "metadata": {
        "id": "view-in-github",
        "colab_type": "text"
      },
      "source": [
        "<a href=\"https://colab.research.google.com/github/donigagahhh/BIGDATA/blob/master/1800018196.ipynb\" target=\"_parent\"><img src=\"https://colab.research.google.com/assets/colab-badge.svg\" alt=\"Open In Colab\"/></a>"
      ]
    },
    {
      "cell_type": "markdown",
      "metadata": {
        "id": "l3fSoj_2o3uf",
        "colab_type": "text"
      },
      "source": [
        ""
      ]
    },
    {
      "cell_type": "markdown",
      "metadata": {
        "id": "bpiG5fhopDMV",
        "colab_type": "text"
      },
      "source": [
        "**PERHITUNGAN JUMLAH 10 APLIKASI TERATAS YANG PALING BANYAK DI INSTALL BERDASARKAN GENRE ATAU KATEGORI**\n"
      ]
    },
    {
      "cell_type": "markdown",
      "metadata": {
        "id": "QDvsinGGqjjm",
        "colab_type": "text"
      },
      "source": [
        "NAMA : DONI GAGAH PRAMUDYA\n",
        "NIM : 1800018196"
      ]
    },
    {
      "cell_type": "markdown",
      "metadata": {
        "id": "WdzvYA2IrSrd",
        "colab_type": "text"
      },
      "source": [
        "1. INSTALL SPARK PADA GOOGLE COLAB"
      ]
    },
    {
      "cell_type": "code",
      "metadata": {
        "id": "U65yZ3H6sMx6",
        "colab_type": "code",
        "colab": {
          "base_uri": "https://localhost:8080/",
          "height": 296
        },
        "outputId": "276a3c57-8660-49a3-d152-9cdf3f0bf3ae"
      },
      "source": [
        "! apt-get install openjdk-8-jdk-headless -qq > /dev/null\n",
        "! wget -q https://downloads.apache.org/spark/spark-2.4.6/spark-2.4.6-bin-hadoop2.7.tgz\n",
        "! tar xf spark-2.4.6-bin-hadoop2.7.tgz\n",
        "! pip install -q findspark\n",
        "! pip install pyspark_dist_explore"
      ],
      "execution_count": null,
      "outputs": [
        {
          "output_type": "stream",
          "text": [
            "Collecting pyspark_dist_explore\n",
            "  Downloading https://files.pythonhosted.org/packages/3c/33/2b6c29265413f2b56516caf02b8befbb6a79a1a3516d57bf1b0742a1be40/pyspark_dist_explore-0.1.8-py3-none-any.whl\n",
            "Requirement already satisfied: matplotlib in /usr/local/lib/python3.6/dist-packages (from pyspark_dist_explore) (3.2.2)\n",
            "Requirement already satisfied: numpy in /usr/local/lib/python3.6/dist-packages (from pyspark_dist_explore) (1.18.5)\n",
            "Requirement already satisfied: pandas in /usr/local/lib/python3.6/dist-packages (from pyspark_dist_explore) (1.0.5)\n",
            "Requirement already satisfied: scipy in /usr/local/lib/python3.6/dist-packages (from pyspark_dist_explore) (1.4.1)\n",
            "Requirement already satisfied: kiwisolver>=1.0.1 in /usr/local/lib/python3.6/dist-packages (from matplotlib->pyspark_dist_explore) (1.2.0)\n",
            "Requirement already satisfied: pyparsing!=2.0.4,!=2.1.2,!=2.1.6,>=2.0.1 in /usr/local/lib/python3.6/dist-packages (from matplotlib->pyspark_dist_explore) (2.4.7)\n",
            "Requirement already satisfied: cycler>=0.10 in /usr/local/lib/python3.6/dist-packages (from matplotlib->pyspark_dist_explore) (0.10.0)\n",
            "Requirement already satisfied: python-dateutil>=2.1 in /usr/local/lib/python3.6/dist-packages (from matplotlib->pyspark_dist_explore) (2.8.1)\n",
            "Requirement already satisfied: pytz>=2017.2 in /usr/local/lib/python3.6/dist-packages (from pandas->pyspark_dist_explore) (2018.9)\n",
            "Requirement already satisfied: six in /usr/local/lib/python3.6/dist-packages (from cycler>=0.10->matplotlib->pyspark_dist_explore) (1.12.0)\n",
            "Installing collected packages: pyspark-dist-explore\n",
            "Successfully installed pyspark-dist-explore-0.1.8\n"
          ],
          "name": "stdout"
        }
      ]
    },
    {
      "cell_type": "markdown",
      "metadata": {
        "id": "KQGzmXB_tlij",
        "colab_type": "text"
      },
      "source": [
        "2. Import library Spark yang sudah diinstal"
      ]
    },
    {
      "cell_type": "code",
      "metadata": {
        "id": "zONlaoT2pPuU",
        "colab_type": "code",
        "colab": {}
      },
      "source": [
        "import os\n",
        "os.environ[\"JAVA_HOME\"] = \"/usr/lib/jvm/java-8-openjdk-amd64\"\n",
        "os.environ[\"SPARK_HOME\"] = \"/content/spark-2.4.5-bin-hadoop2.7\""
      ],
      "execution_count": null,
      "outputs": []
    },
    {
      "cell_type": "markdown",
      "metadata": {
        "id": "IM-4M634t2Dr",
        "colab_type": "text"
      },
      "source": [
        "3. import package yang akan digunakan"
      ]
    },
    {
      "cell_type": "code",
      "metadata": {
        "id": "W6Z6EP1Pt6cY",
        "colab_type": "code",
        "colab": {}
      },
      "source": [
        "import findspark\n",
        "findspark.init(\"spark-2.4.6-bin-hadoop2.7\")# SPARK_HOME\n",
        "from pyspark.sql import SparkSession\n",
        "spark = SparkSession.builder.master(\"local[*]\").getOrCreate()\n",
        "from pyspark.sql.functions import col, avg\n",
        "from matplotlib import pyplot as plt\n",
        "from pyspark_dist_explore import Histogram, hist"
      ],
      "execution_count": null,
      "outputs": []
    },
    {
      "cell_type": "markdown",
      "metadata": {
        "id": "KlSdQvUuuMuI",
        "colab_type": "text"
      },
      "source": [
        "4. Inisialisasi SparkContext dan SparkSession"
      ]
    },
    {
      "cell_type": "code",
      "metadata": {
        "id": "OwmhmGT4uJ8a",
        "colab_type": "code",
        "colab": {}
      },
      "source": [
        "sc = spark.sparkContext\n",
        "spark = SparkSession(sc)"
      ],
      "execution_count": null,
      "outputs": []
    },
    {
      "cell_type": "markdown",
      "metadata": {
        "id": "vt6ZjTjZw8h0",
        "colab_type": "text"
      },
      "source": [
        "LOAD DATASET"
      ]
    },
    {
      "cell_type": "code",
      "metadata": {
        "id": "676Q_dQl0Mqc",
        "colab_type": "code",
        "colab": {
          "base_uri": "https://localhost:8080/",
          "height": 294
        },
        "outputId": "1e3d1d7c-97f4-4a52-ef2a-7fe86456085b"
      },
      "source": [
        "datagoogleplaystore = spark.read.csv('googleplaystore.csv', header=True, inferSchema=True)\n",
        "datagoogleplaystore.printSchema()"
      ],
      "execution_count": null,
      "outputs": [
        {
          "output_type": "stream",
          "text": [
            "root\n",
            " |-- App: string (nullable = true)\n",
            " |-- Category: string (nullable = true)\n",
            " |-- Rating: string (nullable = true)\n",
            " |-- Reviews: string (nullable = true)\n",
            " |-- Size: string (nullable = true)\n",
            " |-- Installs: string (nullable = true)\n",
            " |-- Type: string (nullable = true)\n",
            " |-- Price: string (nullable = true)\n",
            " |-- Content Rating: string (nullable = true)\n",
            " |-- Genres: string (nullable = true)\n",
            " |-- Last Updated: string (nullable = true)\n",
            " |-- Current Ver: string (nullable = true)\n",
            " |-- Android Ver: string (nullable = true)\n",
            "\n"
          ],
          "name": "stdout"
        }
      ]
    },
    {
      "cell_type": "markdown",
      "metadata": {
        "id": "FkW6NL510zqD",
        "colab_type": "text"
      },
      "source": [
        "PROSES EDA"
      ]
    },
    {
      "cell_type": "markdown",
      "metadata": {
        "id": "HPsbrjhv1AIM",
        "colab_type": "text"
      },
      "source": [
        "total aplikasi"
      ]
    },
    {
      "cell_type": "code",
      "metadata": {
        "id": "TdmEZnCh01oB",
        "colab_type": "code",
        "colab": {
          "base_uri": "https://localhost:8080/",
          "height": 35
        },
        "outputId": "3262ba62-d6b0-4034-94a5-d2924277548d"
      },
      "source": [
        "print(\"Total Aplikasi : \", datagoogleplaystore.count())"
      ],
      "execution_count": null,
      "outputs": [
        {
          "output_type": "stream",
          "text": [
            "Total Aplikasi :  10841\n"
          ],
          "name": "stdout"
        }
      ]
    },
    {
      "cell_type": "markdown",
      "metadata": {
        "id": "wQfcHj9t1Xuz",
        "colab_type": "text"
      },
      "source": [
        "10 data teratas"
      ]
    },
    {
      "cell_type": "code",
      "metadata": {
        "id": "DNi26Mi61ToR",
        "colab_type": "code",
        "colab": {
          "base_uri": "https://localhost:8080/",
          "height": 331
        },
        "outputId": "10c045f4-4594-4b91-a20a-d0cb2851a0fc"
      },
      "source": [
        "datagoogleplaystore.show(10)"
      ],
      "execution_count": null,
      "outputs": [
        {
          "output_type": "stream",
          "text": [
            "+--------------------+--------------+------+-------+----+-----------+----+-----+--------------+--------------------+------------------+------------------+------------+\n",
            "|                 App|      Category|Rating|Reviews|Size|   Installs|Type|Price|Content Rating|              Genres|      Last Updated|       Current Ver| Android Ver|\n",
            "+--------------------+--------------+------+-------+----+-----------+----+-----+--------------+--------------------+------------------+------------------+------------+\n",
            "|Photo Editor & Ca...|ART_AND_DESIGN|   4.1|    159| 19M|    10,000+|Free|    0|      Everyone|        Art & Design|   January 7, 2018|             1.0.0|4.0.3 and up|\n",
            "| Coloring book moana|ART_AND_DESIGN|   3.9|    967| 14M|   500,000+|Free|    0|      Everyone|Art & Design;Pret...|  January 15, 2018|             2.0.0|4.0.3 and up|\n",
            "|U Launcher Lite –...|ART_AND_DESIGN|   4.7|  87510|8.7M| 5,000,000+|Free|    0|      Everyone|        Art & Design|    August 1, 2018|             1.2.4|4.0.3 and up|\n",
            "|Sketch - Draw & P...|ART_AND_DESIGN|   4.5| 215644| 25M|50,000,000+|Free|    0|          Teen|        Art & Design|      June 8, 2018|Varies with device|  4.2 and up|\n",
            "|Pixel Draw - Numb...|ART_AND_DESIGN|   4.3|    967|2.8M|   100,000+|Free|    0|      Everyone|Art & Design;Crea...|     June 20, 2018|               1.1|  4.4 and up|\n",
            "|Paper flowers ins...|ART_AND_DESIGN|   4.4|    167|5.6M|    50,000+|Free|    0|      Everyone|        Art & Design|    March 26, 2017|               1.0|  2.3 and up|\n",
            "|Smoke Effect Phot...|ART_AND_DESIGN|   3.8|    178| 19M|    50,000+|Free|    0|      Everyone|        Art & Design|    April 26, 2018|               1.1|4.0.3 and up|\n",
            "|    Infinite Painter|ART_AND_DESIGN|   4.1|  36815| 29M| 1,000,000+|Free|    0|      Everyone|        Art & Design|     June 14, 2018|          6.1.61.1|  4.2 and up|\n",
            "|Garden Coloring Book|ART_AND_DESIGN|   4.4|  13791| 33M| 1,000,000+|Free|    0|      Everyone|        Art & Design|September 20, 2017|             2.9.2|  3.0 and up|\n",
            "|Kids Paint Free -...|ART_AND_DESIGN|   4.7|    121|3.1M|    10,000+|Free|    0|      Everyone|Art & Design;Crea...|      July 3, 2018|               2.8|4.0.3 and up|\n",
            "+--------------------+--------------+------+-------+----+-----------+----+-----+--------------+--------------------+------------------+------------------+------------+\n",
            "only showing top 10 rows\n",
            "\n"
          ],
          "name": "stdout"
        }
      ]
    },
    {
      "cell_type": "markdown",
      "metadata": {
        "id": "eIExZr2v1xoS",
        "colab_type": "text"
      },
      "source": [
        "**Statistik dataset**"
      ]
    },
    {
      "cell_type": "code",
      "metadata": {
        "id": "Bj96mlaz18dD",
        "colab_type": "code",
        "colab": {
          "base_uri": "https://localhost:8080/",
          "height": 221
        },
        "outputId": "1a8e405f-6057-4abf-8a54-e6e9f3258f17"
      },
      "source": [
        "datagoogleplaystore.describe().show()"
      ],
      "execution_count": null,
      "outputs": [
        {
          "output_type": "stream",
          "text": [
            "+-------+--------------------+-------------+-----------+-----------------+------------------+------------------+-----+------------------+--------------+------+-----------------+-------------+------------------+\n",
            "|summary|                 App|     Category|     Rating|          Reviews|              Size|          Installs| Type|             Price|Content Rating|Genres|     Last Updated|  Current Ver|       Android Ver|\n",
            "+-------+--------------------+-------------+-----------+-----------------+------------------+------------------+-----+------------------+--------------+------+-----------------+-------------+------------------+\n",
            "|  count|               10841|        10841|      10841|            10841|             10841|             10841|10841|             10841|         10840| 10841|            10841|        10840|             10840|\n",
            "|   mean|                null|          1.9|        NaN|444225.1924709356|              null| 2.866666666666667|  NaN|               0.0|          null|  null|              0.0|          NaN|               NaN|\n",
            "| stddev|                null|          NaN|        NaN|2928025.838407947|              null|2.4846193538112304|  NaN|               0.0|          null|  null|              0.0|          NaN|               NaN|\n",
            "|    min|\"\"\"i DT\"\" Fútbol....| traffic jams| navigation|          camera\"|            1,000+|                 0|    0|             $0.99|    1,000,000+|Action|                0|      0.0.0.2|        1.0 and up|\n",
            "|    max|🔥 Football Wallp...|      WEATHER|        NaN|    weight lose)\"|Varies with device|              Free| Paid|Varies with device|       Unrated|  Word|September 9, 2017|version 0.994|Varies with device|\n",
            "+-------+--------------------+-------------+-----------+-----------------+------------------+------------------+-----+------------------+--------------+------+-----------------+-------------+------------------+\n",
            "\n"
          ],
          "name": "stdout"
        }
      ]
    },
    {
      "cell_type": "markdown",
      "metadata": {
        "id": "n0Mbiseg3Oml",
        "colab_type": "text"
      },
      "source": [
        "persebaran data pada kolom Size"
      ]
    },
    {
      "cell_type": "code",
      "metadata": {
        "id": "u-LEM1bY3gZ5",
        "colab_type": "code",
        "colab": {
          "base_uri": "https://localhost:8080/",
          "height": 294
        },
        "outputId": "662d8c7e-0cef-4243-d1c9-dc0694ac2d34"
      },
      "source": [
        "from pyspark.sql.types import StructField, IntegerType, StructType, StringType\n",
        "\n",
        "newGPS = [\n",
        "    StructField(\"Genres\", IntegerType(), True),\n",
        "]\n",
        "\n",
        "finalStruct = StructType(fields=newGPS)\n",
        "\n",
        "datagoogleplaystore = spark.read.csv('googleplaystore.csv', header=True, inferSchema=True)\n",
        "datagoogleplaystore.printSchema()"
      ],
      "execution_count": 11,
      "outputs": [
        {
          "output_type": "stream",
          "text": [
            "root\n",
            " |-- App: string (nullable = true)\n",
            " |-- Category: string (nullable = true)\n",
            " |-- Rating: string (nullable = true)\n",
            " |-- Reviews: string (nullable = true)\n",
            " |-- Size: string (nullable = true)\n",
            " |-- Installs: string (nullable = true)\n",
            " |-- Type: string (nullable = true)\n",
            " |-- Price: string (nullable = true)\n",
            " |-- Content Rating: string (nullable = true)\n",
            " |-- Genres: string (nullable = true)\n",
            " |-- Last Updated: string (nullable = true)\n",
            " |-- Current Ver: string (nullable = true)\n",
            " |-- Android Ver: string (nullable = true)\n",
            "\n"
          ],
          "name": "stdout"
        }
      ]
    },
    {
      "cell_type": "markdown",
      "metadata": {
        "id": "qmgxs2d33lwr",
        "colab_type": "text"
      },
      "source": [
        "**MENGECEK APAKAH ADA DATA YANG NULL**"
      ]
    },
    {
      "cell_type": "code",
      "metadata": {
        "id": "FFznGd6P3pE5",
        "colab_type": "code",
        "colab": {
          "base_uri": "https://localhost:8080/",
          "height": 257
        },
        "outputId": "5ddbf817-1b6f-4f5b-c5f5-a419b73f6be0"
      },
      "source": [
        "table = ['App', 'Category', 'Rating', 'Reviews', 'Size', 'Installs', 'Type', 'Price', 'Content Rating', 'Genres', 'Last Updated', 'Current Ver', 'Android Ver']\n",
        "\n",
        "for kolom in table:\n",
        "  print('jumlah data yang bernilai null pada colom ', kolom, ' : ', datagoogleplaystore.where(col(kolom).isNull()).count())"
      ],
      "execution_count": 14,
      "outputs": [
        {
          "output_type": "stream",
          "text": [
            "jumlah data yang bernilai null pada colom  App  :  0\n",
            "jumlah data yang bernilai null pada colom  Category  :  0\n",
            "jumlah data yang bernilai null pada colom  Rating  :  0\n",
            "jumlah data yang bernilai null pada colom  Reviews  :  0\n",
            "jumlah data yang bernilai null pada colom  Size  :  0\n",
            "jumlah data yang bernilai null pada colom  Installs  :  0\n",
            "jumlah data yang bernilai null pada colom  Type  :  0\n",
            "jumlah data yang bernilai null pada colom  Price  :  0\n",
            "jumlah data yang bernilai null pada colom  Content Rating  :  1\n",
            "jumlah data yang bernilai null pada colom  Genres  :  0\n",
            "jumlah data yang bernilai null pada colom  Last Updated  :  0\n",
            "jumlah data yang bernilai null pada colom  Current Ver  :  1\n",
            "jumlah data yang bernilai null pada colom  Android Ver  :  1\n"
          ],
          "name": "stdout"
        }
      ]
    },
    {
      "cell_type": "markdown",
      "metadata": {
        "id": "Rjj05pws4v-N",
        "colab_type": "text"
      },
      "source": [
        "**Pre Processing**"
      ]
    },
    {
      "cell_type": "code",
      "metadata": {
        "id": "HgKic5V54vVG",
        "colab_type": "code",
        "colab": {
          "base_uri": "https://localhost:8080/",
          "height": 313
        },
        "outputId": "5d622ca3-d0b2-44e3-f58b-e9a3136b65be"
      },
      "source": [
        "dataPP = datagoogleplaystore.select('App', 'Genres', 'Category')\n",
        "dataPP.show(10)"
      ],
      "execution_count": 15,
      "outputs": [
        {
          "output_type": "stream",
          "text": [
            "+--------------------+--------------------+--------------+\n",
            "|                 App|              Genres|      Category|\n",
            "+--------------------+--------------------+--------------+\n",
            "|Photo Editor & Ca...|        Art & Design|ART_AND_DESIGN|\n",
            "| Coloring book moana|Art & Design;Pret...|ART_AND_DESIGN|\n",
            "|U Launcher Lite –...|        Art & Design|ART_AND_DESIGN|\n",
            "|Sketch - Draw & P...|        Art & Design|ART_AND_DESIGN|\n",
            "|Pixel Draw - Numb...|Art & Design;Crea...|ART_AND_DESIGN|\n",
            "|Paper flowers ins...|        Art & Design|ART_AND_DESIGN|\n",
            "|Smoke Effect Phot...|        Art & Design|ART_AND_DESIGN|\n",
            "|    Infinite Painter|        Art & Design|ART_AND_DESIGN|\n",
            "|Garden Coloring Book|        Art & Design|ART_AND_DESIGN|\n",
            "|Kids Paint Free -...|Art & Design;Crea...|ART_AND_DESIGN|\n",
            "+--------------------+--------------------+--------------+\n",
            "only showing top 10 rows\n",
            "\n"
          ],
          "name": "stdout"
        }
      ]
    },
    {
      "cell_type": "code",
      "metadata": {
        "id": "-K0oFRv17Bch",
        "colab_type": "code",
        "colab": {
          "base_uri": "https://localhost:8080/",
          "height": 313
        },
        "outputId": "d874f0b1-fffc-4a7b-b171-3fb7c8e2a1db"
      },
      "source": [
        "datagoogleplaystore.groupby(\"Genres\", \"Category\").count().sort(col(\"count\").desc()).show(10, False)"
      ],
      "execution_count": 18,
      "outputs": [
        {
          "output_type": "stream",
          "text": [
            "+---------------+---------------+-----+\n",
            "|Genres         |Category       |count|\n",
            "+---------------+---------------+-----+\n",
            "|Tools          |TOOLS          |842  |\n",
            "|Entertainment  |FAMILY         |487  |\n",
            "|Medical        |MEDICAL        |463  |\n",
            "|Business       |BUSINESS       |460  |\n",
            "|Productivity   |PRODUCTIVITY   |424  |\n",
            "|Education      |FAMILY         |420  |\n",
            "|Personalization|PERSONALIZATION|392  |\n",
            "|Communication  |COMMUNICATION  |387  |\n",
            "|Sports         |SPORTS         |384  |\n",
            "|Lifestyle      |LIFESTYLE      |381  |\n",
            "+---------------+---------------+-----+\n",
            "only showing top 10 rows\n",
            "\n"
          ],
          "name": "stdout"
        }
      ]
    },
    {
      "cell_type": "markdown",
      "metadata": {
        "id": "EkkvYfkVD6yj",
        "colab_type": "text"
      },
      "source": [
        "**Pemrosesan Data**"
      ]
    },
    {
      "cell_type": "code",
      "metadata": {
        "id": "yxwMRERND-vx",
        "colab_type": "code",
        "colab": {
          "base_uri": "https://localhost:8080/",
          "height": 340
        },
        "outputId": "3d11653f-7e62-4e90-fbaa-548eba192bbd"
      },
      "source": [
        "data_genre = datagoogleplaystore.filter(datagoogleplaystore.Genres == 'Tools')\n",
        "data_genre = datagoogleplaystore.filter(datagoogleplaystore.Genres == 'Entertainment')\n",
        "data_genre = datagoogleplaystore.filter(datagoogleplaystore.Genres == 'Medical')\n",
        "data_genre = datagoogleplaystore.filter(datagoogleplaystore.Genres == 'Business')\n",
        "data_genre = datagoogleplaystore.filter(datagoogleplaystore.Genres == 'Productivity')\n",
        "data_genre = datagoogleplaystore.filter(datagoogleplaystore.Genres == 'Education')\n",
        "data_genre = datagoogleplaystore.filter(datagoogleplaystore.Genres == 'Personalization')\n",
        "data_genre = datagoogleplaystore.filter(datagoogleplaystore.Genres == 'Communication')\n",
        "data_genre = datagoogleplaystore.filter(datagoogleplaystore.Genres == 'Sports')\n",
        "data_genre = datagoogleplaystore.filter(datagoogleplaystore.Genres == 'Lifestyle')\n",
        "\n",
        "data_category = datagoogleplaystore.filter(datagoogleplaystore.Category == 'TOOLS')\n",
        "data_category = datagoogleplaystore.filter(datagoogleplaystore.Category == 'FAMILY')\n",
        "data_category = datagoogleplaystore.filter(datagoogleplaystore.Category == 'MEDICAL')\n",
        "data_category = datagoogleplaystore.filter(datagoogleplaystore.Category == 'BUSINESS')\n",
        "data_category = datagoogleplaystore.filter(datagoogleplaystore.Category == 'PRODUCTIVITY')\n",
        "data_category = datagoogleplaystore.filter(datagoogleplaystore.Category == 'FAMILY')\n",
        "data_category = datagoogleplaystore.filter(datagoogleplaystore.Category == 'PERSONALIZATION')\n",
        "data_category = datagoogleplaystore.filter(datagoogleplaystore.Category == 'COMMUNICATION')\n",
        "data_category = datagoogleplaystore.filter(datagoogleplaystore.Category == 'SPORTS')\n",
        "data_category = datagoogleplaystore.filter(datagoogleplaystore.Category == 'LIFESTYLE')\n",
        "\n",
        "App_Genres = datagoogleplaystore.filter(datagoogleplaystore.App == 'Genre Aplikasi')\n",
        "App_Category = datagoogleplaystore.filter(datagoogleplaystore.App == 'Category Aplikasi')\n",
        "\n",
        "appgenres = App_Genres.filter(App_Genres.App > 0)\n",
        "appgenres.show()\n",
        "\n",
        "appcategory = App_Category.filter(App_Category > 0)\n",
        "appcategory.show()\n",
        "\n",
        "appgenres.createOrReplaceTempView(\"AG\")\n",
        "appcategory.createOrReplaceTempView(\"AC\")\n",
        "\n",
        "\n",
        "\n",
        "\n",
        "\n"
      ],
      "execution_count": 36,
      "outputs": [
        {
          "output_type": "stream",
          "text": [
            "+---+--------+------+-------+----+--------+----+-----+--------------+------+------------+-----------+-----------+\n",
            "|App|Category|Rating|Reviews|Size|Installs|Type|Price|Content Rating|Genres|Last Updated|Current Ver|Android Ver|\n",
            "+---+--------+------+-------+----+--------+----+-----+--------------+------+------------+-----------+-----------+\n",
            "+---+--------+------+-------+----+--------+----+-----+--------------+------+------------+-----------+-----------+\n",
            "\n"
          ],
          "name": "stdout"
        },
        {
          "output_type": "error",
          "ename": "TypeError",
          "evalue": "ignored",
          "traceback": [
            "\u001b[0;31m---------------------------------------------------------------------------\u001b[0m",
            "\u001b[0;31mTypeError\u001b[0m                                 Traceback (most recent call last)",
            "\u001b[0;32m<ipython-input-36-74084c66219a>\u001b[0m in \u001b[0;36m<module>\u001b[0;34m()\u001b[0m\n\u001b[1;32m     27\u001b[0m \u001b[0mappgenres\u001b[0m\u001b[0;34m.\u001b[0m\u001b[0mshow\u001b[0m\u001b[0;34m(\u001b[0m\u001b[0;34m)\u001b[0m\u001b[0;34m\u001b[0m\u001b[0;34m\u001b[0m\u001b[0m\n\u001b[1;32m     28\u001b[0m \u001b[0;34m\u001b[0m\u001b[0m\n\u001b[0;32m---> 29\u001b[0;31m \u001b[0mappcategory\u001b[0m \u001b[0;34m=\u001b[0m \u001b[0mApp_Category\u001b[0m\u001b[0;34m.\u001b[0m\u001b[0mfilter\u001b[0m\u001b[0;34m(\u001b[0m\u001b[0mApp_Category\u001b[0m \u001b[0;34m>\u001b[0m \u001b[0;36m0\u001b[0m\u001b[0;34m)\u001b[0m\u001b[0;34m\u001b[0m\u001b[0;34m\u001b[0m\u001b[0m\n\u001b[0m\u001b[1;32m     30\u001b[0m \u001b[0mappcategory\u001b[0m\u001b[0;34m.\u001b[0m\u001b[0mshow\u001b[0m\u001b[0;34m(\u001b[0m\u001b[0;34m)\u001b[0m\u001b[0;34m\u001b[0m\u001b[0;34m\u001b[0m\u001b[0m\n\u001b[1;32m     31\u001b[0m \u001b[0;34m\u001b[0m\u001b[0m\n",
            "\u001b[0;31mTypeError\u001b[0m: '>' not supported between instances of 'DataFrame' and 'int'"
          ]
        }
      ]
    },
    {
      "cell_type": "code",
      "metadata": {
        "id": "7mUpfloHKhPt",
        "colab_type": "code",
        "colab": {}
      },
      "source": [
        "# plotting data\n",
        "fig, axes = plt.subplots()\n",
        "\n",
        "# jumlah pengunjung Hotel\n",
        "fig.set_size_inches(7, 5)\n",
        "\n",
        "plt.title('Perbandingan jumlah pengunjung')\n",
        "plt.pie([ResortHotel.count(), cityHotel.count()], labels=['Resort Hotel', ' City Hotel'], autopct='%1.1f%%', shadow=True, startangle=40, colors=['#6ebfb5', 'red'])\n",
        "print('\\n')"
      ],
      "execution_count": null,
      "outputs": []
    }
  ]
}