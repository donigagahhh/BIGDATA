{
  "nbformat": 4,
  "nbformat_minor": 0,
  "metadata": {
    "colab": {
      "name": "Untitled0.ipynb",
      "provenance": [],
      "authorship_tag": "ABX9TyMEJ/kuhUDJjIEUhqEH9NSR",
      "include_colab_link": true
    },
    "kernelspec": {
      "name": "python3",
      "display_name": "Python 3"
    }
  },
  "cells": [
    {
      "cell_type": "markdown",
      "metadata": {
        "id": "view-in-github",
        "colab_type": "text"
      },
      "source": [
        "<a href=\"https://colab.research.google.com/github/donigagahhh/BIGDATA/blob/master/1800018196.ipynb\" target=\"_parent\"><img src=\"https://colab.research.google.com/assets/colab-badge.svg\" alt=\"Open In Colab\"/></a>"
      ]
    },
    {
      "cell_type": "markdown",
      "metadata": {
        "id": "l3fSoj_2o3uf",
        "colab_type": "text"
      },
      "source": [
        ""
      ]
    },
    {
      "cell_type": "markdown",
      "metadata": {
        "id": "bpiG5fhopDMV",
        "colab_type": "text"
      },
      "source": [
        "**PERHITUNGAN JUMLAH 10 APLIKASI TERATAS YANG PALING BANYAK DI INSTALL BERDASARKAN GENRE ATAU KATEGORI**\n"
      ]
    },
    {
      "cell_type": "markdown",
      "metadata": {
        "id": "QDvsinGGqjjm",
        "colab_type": "text"
      },
      "source": [
        "NAMA : DONI GAGAH PRAMUDYA\n",
        "NIM : 1800018196"
      ]
    },
    {
      "cell_type": "code",
      "metadata": {
        "id": "zONlaoT2pPuU",
        "colab_type": "code",
        "colab": {}
      },
      "source": [
        ""
      ],
      "execution_count": null,
      "outputs": []
    }
  ]
}