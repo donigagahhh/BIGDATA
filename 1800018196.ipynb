{
  "nbformat": 4,
  "nbformat_minor": 0,
  "metadata": {
    "colab": {
      "name": "Copy of Untitled0.ipynb",
      "provenance": [],
      "collapsed_sections": [],
      "authorship_tag": "ABX9TyPpbhn2ukd31ey8pi9s2wL7",
      "include_colab_link": true
    },
    "kernelspec": {
      "name": "python3",
      "display_name": "Python 3"
    }
  },
  "cells": [
    {
      "cell_type": "markdown",
      "metadata": {
        "id": "view-in-github",
        "colab_type": "text"
      },
      "source": [
        "<a href=\"https://colab.research.google.com/github/donigagahhh/BIGDATA/blob/master/1800018196.ipynb\" target=\"_parent\"><img src=\"https://colab.research.google.com/assets/colab-badge.svg\" alt=\"Open In Colab\"/></a>"
      ]
    },
    {
      "cell_type": "markdown",
      "metadata": {
        "id": "l3fSoj_2o3uf",
        "colab_type": "text"
      },
      "source": [
        ""
      ]
    },
    {
      "cell_type": "markdown",
      "metadata": {
        "id": "bpiG5fhopDMV",
        "colab_type": "text"
      },
      "source": [
        "**PERHITUNGAN JUMLAH 10 APLIKASI TERATAS YANG PALING BANYAK DI INSTALL BERDASARKAN GENRE ATAU KATEGORI**\n"
      ]
    },
    {
      "cell_type": "markdown",
      "metadata": {
        "id": "QDvsinGGqjjm",
        "colab_type": "text"
      },
      "source": [
        "NAMA : DONI GAGAH PRAMUDYA\n",
        "NIM : 1800018196"
      ]
    },
    {
      "cell_type": "markdown",
      "metadata": {
        "id": "WdzvYA2IrSrd",
        "colab_type": "text"
      },
      "source": [
        "INSTALL SPARK PADA GOOGLE COLAB"
      ]
    },
    {
      "cell_type": "code",
      "metadata": {
        "id": "U65yZ3H6sMx6",
        "colab_type": "code",
        "colab": {
          "base_uri": "https://localhost:8080/",
          "height": 289
        },
        "outputId": "af0f28a2-3520-444b-dce1-95b2b99e1bdc"
      },
      "source": [
        "! apt-get install openjdk-8-jdk-headless -qq > /dev/null\n",
        "! wget -q https://downloads.apache.org/spark/spark-2.4.6/spark-2.4.6-bin-hadoop2.7.tgz\n",
        "! tar xf spark-2.4.6-bin-hadoop2.7.tgz\n",
        "! pip install -q findspark\n",
        "! pip install pyspark_dist_explore"
      ],
      "execution_count": 1,
      "outputs": [
        {
          "output_type": "stream",
          "text": [
            "Collecting pyspark_dist_explore\n",
            "  Downloading https://files.pythonhosted.org/packages/3c/33/2b6c29265413f2b56516caf02b8befbb6a79a1a3516d57bf1b0742a1be40/pyspark_dist_explore-0.1.8-py3-none-any.whl\n",
            "Requirement already satisfied: scipy in /usr/local/lib/python3.6/dist-packages (from pyspark_dist_explore) (1.4.1)\n",
            "Requirement already satisfied: numpy in /usr/local/lib/python3.6/dist-packages (from pyspark_dist_explore) (1.18.5)\n",
            "Requirement already satisfied: matplotlib in /usr/local/lib/python3.6/dist-packages (from pyspark_dist_explore) (3.2.2)\n",
            "Requirement already satisfied: pandas in /usr/local/lib/python3.6/dist-packages (from pyspark_dist_explore) (1.0.5)\n",
            "Requirement already satisfied: cycler>=0.10 in /usr/local/lib/python3.6/dist-packages (from matplotlib->pyspark_dist_explore) (0.10.0)\n",
            "Requirement already satisfied: python-dateutil>=2.1 in /usr/local/lib/python3.6/dist-packages (from matplotlib->pyspark_dist_explore) (2.8.1)\n",
            "Requirement already satisfied: pyparsing!=2.0.4,!=2.1.2,!=2.1.6,>=2.0.1 in /usr/local/lib/python3.6/dist-packages (from matplotlib->pyspark_dist_explore) (2.4.7)\n",
            "Requirement already satisfied: kiwisolver>=1.0.1 in /usr/local/lib/python3.6/dist-packages (from matplotlib->pyspark_dist_explore) (1.2.0)\n",
            "Requirement already satisfied: pytz>=2017.2 in /usr/local/lib/python3.6/dist-packages (from pandas->pyspark_dist_explore) (2018.9)\n",
            "Requirement already satisfied: six in /usr/local/lib/python3.6/dist-packages (from cycler>=0.10->matplotlib->pyspark_dist_explore) (1.12.0)\n",
            "Installing collected packages: pyspark-dist-explore\n",
            "Successfully installed pyspark-dist-explore-0.1.8\n"
          ],
          "name": "stdout"
        }
      ]
    },
    {
      "cell_type": "markdown",
      "metadata": {
        "id": "KQGzmXB_tlij",
        "colab_type": "text"
      },
      "source": [
        "Import library Spark yang sudah diinstal"
      ]
    },
    {
      "cell_type": "code",
      "metadata": {
        "id": "zONlaoT2pPuU",
        "colab_type": "code",
        "colab": {}
      },
      "source": [
        "import os\n",
        "os.environ[\"JAVA_HOME\"] = \"/usr/lib/jvm/java-8-openjdk-amd64\"\n",
        "os.environ[\"SPARK_HOME\"] = \"/content/spark-2.4.5-bin-hadoop2.7\""
      ],
      "execution_count": 2,
      "outputs": []
    },
    {
      "cell_type": "markdown",
      "metadata": {
        "id": "IM-4M634t2Dr",
        "colab_type": "text"
      },
      "source": [
        "import package yang akan digunakan"
      ]
    },
    {
      "cell_type": "code",
      "metadata": {
        "id": "W6Z6EP1Pt6cY",
        "colab_type": "code",
        "colab": {}
      },
      "source": [
        "import findspark\n",
        "findspark.init(\"spark-2.4.6-bin-hadoop2.7\")# SPARK_HOME\n",
        "from pyspark.sql import SparkSession\n",
        "spark = SparkSession.builder.master(\"local[*]\").getOrCreate()\n",
        "from pyspark.sql.functions import col, avg\n",
        "from matplotlib import pyplot as plt\n",
        "from pyspark_dist_explore import Histogram, hist"
      ],
      "execution_count": 3,
      "outputs": []
    },
    {
      "cell_type": "markdown",
      "metadata": {
        "id": "KlSdQvUuuMuI",
        "colab_type": "text"
      },
      "source": [
        "Inisialisasi SparkContext dan SparkSession"
      ]
    },
    {
      "cell_type": "code",
      "metadata": {
        "id": "OwmhmGT4uJ8a",
        "colab_type": "code",
        "colab": {}
      },
      "source": [
        "sc = spark.sparkContext\n",
        "spark = SparkSession(sc)"
      ],
      "execution_count": 4,
      "outputs": []
    },
    {
      "cell_type": "markdown",
      "metadata": {
        "id": "vt6ZjTjZw8h0",
        "colab_type": "text"
      },
      "source": [
        "LOAD DATASET"
      ]
    },
    {
      "cell_type": "code",
      "metadata": {
        "id": "676Q_dQl0Mqc",
        "colab_type": "code",
        "colab": {
          "base_uri": "https://localhost:8080/",
          "height": 287
        },
        "outputId": "74216d72-52b1-45d2-dfb2-c81320a05dbc"
      },
      "source": [
        "datagoogleplaystore = spark.read.csv('googleplaystore.csv', header=True, inferSchema=True)\n",
        "datagoogleplaystore.printSchema()"
      ],
      "execution_count": 5,
      "outputs": [
        {
          "output_type": "stream",
          "text": [
            "root\n",
            " |-- App: string (nullable = true)\n",
            " |-- Category: string (nullable = true)\n",
            " |-- Rating: string (nullable = true)\n",
            " |-- Reviews: string (nullable = true)\n",
            " |-- Size: string (nullable = true)\n",
            " |-- Installs: string (nullable = true)\n",
            " |-- Type: string (nullable = true)\n",
            " |-- Price: string (nullable = true)\n",
            " |-- Content Rating: string (nullable = true)\n",
            " |-- Genres: string (nullable = true)\n",
            " |-- Last Updated: string (nullable = true)\n",
            " |-- Current Ver: string (nullable = true)\n",
            " |-- Android Ver: string (nullable = true)\n",
            "\n"
          ],
          "name": "stdout"
        }
      ]
    },
    {
      "cell_type": "markdown",
      "metadata": {
        "id": "FkW6NL510zqD",
        "colab_type": "text"
      },
      "source": [
        "PROSES EDA"
      ]
    },
    {
      "cell_type": "markdown",
      "metadata": {
        "id": "HPsbrjhv1AIM",
        "colab_type": "text"
      },
      "source": [
        "total aplikasi"
      ]
    },
    {
      "cell_type": "code",
      "metadata": {
        "id": "TdmEZnCh01oB",
        "colab_type": "code",
        "colab": {
          "base_uri": "https://localhost:8080/",
          "height": 35
        },
        "outputId": "8c37f06a-907f-4da5-9f69-a254bf9fb627"
      },
      "source": [
        "print(\"Total Aplikasi : \", datagoogleplaystore.count())"
      ],
      "execution_count": 6,
      "outputs": [
        {
          "output_type": "stream",
          "text": [
            "Total Aplikasi :  10841\n"
          ],
          "name": "stdout"
        }
      ]
    },
    {
      "cell_type": "markdown",
      "metadata": {
        "id": "wQfcHj9t1Xuz",
        "colab_type": "text"
      },
      "source": [
        "10 data teratas"
      ]
    },
    {
      "cell_type": "code",
      "metadata": {
        "id": "DNi26Mi61ToR",
        "colab_type": "code",
        "colab": {
          "base_uri": "https://localhost:8080/",
          "height": 325
        },
        "outputId": "cd27410e-d082-4faa-a7e5-44118608298a"
      },
      "source": [
        "datagoogleplaystore.show(10)"
      ],
      "execution_count": 7,
      "outputs": [
        {
          "output_type": "stream",
          "text": [
            "+--------------------+--------------+------+-------+----+-----------+----+-----+--------------+--------------------+------------------+------------------+------------+\n",
            "|                 App|      Category|Rating|Reviews|Size|   Installs|Type|Price|Content Rating|              Genres|      Last Updated|       Current Ver| Android Ver|\n",
            "+--------------------+--------------+------+-------+----+-----------+----+-----+--------------+--------------------+------------------+------------------+------------+\n",
            "|Photo Editor & Ca...|ART_AND_DESIGN|   4.1|    159| 19M|    10,000+|Free|    0|      Everyone|        Art & Design|   January 7, 2018|             1.0.0|4.0.3 and up|\n",
            "| Coloring book moana|ART_AND_DESIGN|   3.9|    967| 14M|   500,000+|Free|    0|      Everyone|Art & Design;Pret...|  January 15, 2018|             2.0.0|4.0.3 and up|\n",
            "|U Launcher Lite –...|ART_AND_DESIGN|   4.7|  87510|8.7M| 5,000,000+|Free|    0|      Everyone|        Art & Design|    August 1, 2018|             1.2.4|4.0.3 and up|\n",
            "|Sketch - Draw & P...|ART_AND_DESIGN|   4.5| 215644| 25M|50,000,000+|Free|    0|          Teen|        Art & Design|      June 8, 2018|Varies with device|  4.2 and up|\n",
            "|Pixel Draw - Numb...|ART_AND_DESIGN|   4.3|    967|2.8M|   100,000+|Free|    0|      Everyone|Art & Design;Crea...|     June 20, 2018|               1.1|  4.4 and up|\n",
            "|Paper flowers ins...|ART_AND_DESIGN|   4.4|    167|5.6M|    50,000+|Free|    0|      Everyone|        Art & Design|    March 26, 2017|               1.0|  2.3 and up|\n",
            "|Smoke Effect Phot...|ART_AND_DESIGN|   3.8|    178| 19M|    50,000+|Free|    0|      Everyone|        Art & Design|    April 26, 2018|               1.1|4.0.3 and up|\n",
            "|    Infinite Painter|ART_AND_DESIGN|   4.1|  36815| 29M| 1,000,000+|Free|    0|      Everyone|        Art & Design|     June 14, 2018|          6.1.61.1|  4.2 and up|\n",
            "|Garden Coloring Book|ART_AND_DESIGN|   4.4|  13791| 33M| 1,000,000+|Free|    0|      Everyone|        Art & Design|September 20, 2017|             2.9.2|  3.0 and up|\n",
            "|Kids Paint Free -...|ART_AND_DESIGN|   4.7|    121|3.1M|    10,000+|Free|    0|      Everyone|Art & Design;Crea...|      July 3, 2018|               2.8|4.0.3 and up|\n",
            "+--------------------+--------------+------+-------+----+-----------+----+-----+--------------+--------------------+------------------+------------------+------------+\n",
            "only showing top 10 rows\n",
            "\n"
          ],
          "name": "stdout"
        }
      ]
    },
    {
      "cell_type": "markdown",
      "metadata": {
        "id": "eIExZr2v1xoS",
        "colab_type": "text"
      },
      "source": [
        "**Statistik dataset**"
      ]
    },
    {
      "cell_type": "code",
      "metadata": {
        "id": "Bj96mlaz18dD",
        "colab_type": "code",
        "colab": {
          "base_uri": "https://localhost:8080/",
          "height": 217
        },
        "outputId": "0b03b5b5-2cdb-4f91-b140-a6a7eca4f408"
      },
      "source": [
        "datagoogleplaystore.describe().show()"
      ],
      "execution_count": 8,
      "outputs": [
        {
          "output_type": "stream",
          "text": [
            "+-------+--------------------+-------------+-----------+-----------------+------------------+------------------+-----+------------------+--------------+------+-----------------+-------------+------------------+\n",
            "|summary|                 App|     Category|     Rating|          Reviews|              Size|          Installs| Type|             Price|Content Rating|Genres|     Last Updated|  Current Ver|       Android Ver|\n",
            "+-------+--------------------+-------------+-----------+-----------------+------------------+------------------+-----+------------------+--------------+------+-----------------+-------------+------------------+\n",
            "|  count|               10841|        10841|      10841|            10841|             10841|             10841|10841|             10841|         10840| 10841|            10841|        10840|             10840|\n",
            "|   mean|                null|          1.9|        NaN|444225.1924709356|              null| 2.866666666666667|  NaN|               0.0|          null|  null|              0.0|          NaN|               NaN|\n",
            "| stddev|                null|          NaN|        NaN|2928025.838407947|              null|2.4846193538112304|  NaN|               0.0|          null|  null|              0.0|          NaN|               NaN|\n",
            "|    min|\"\"\"i DT\"\" Fútbol....| traffic jams| navigation|          camera\"|            1,000+|                 0|    0|             $0.99|    1,000,000+|Action|                0|      0.0.0.2|        1.0 and up|\n",
            "|    max|🔥 Football Wallp...|      WEATHER|        NaN|    weight lose)\"|Varies with device|              Free| Paid|Varies with device|       Unrated|  Word|September 9, 2017|version 0.994|Varies with device|\n",
            "+-------+--------------------+-------------+-----------+-----------------+------------------+------------------+-----+------------------+--------------+------+-----------------+-------------+------------------+\n",
            "\n"
          ],
          "name": "stdout"
        }
      ]
    },
    {
      "cell_type": "markdown",
      "metadata": {
        "id": "n0Mbiseg3Oml",
        "colab_type": "text"
      },
      "source": [
        "persebaran data pada kolom"
      ]
    },
    {
      "cell_type": "code",
      "metadata": {
        "id": "u-LEM1bY3gZ5",
        "colab_type": "code",
        "colab": {
          "base_uri": "https://localhost:8080/",
          "height": 287
        },
        "outputId": "4c53f8f5-cb16-468b-d695-41fa11467534"
      },
      "source": [
        "from pyspark.sql.types import StructField, IntegerType, StructType, StringType\n",
        "\n",
        "newGPS = [\n",
        "    StructField(\"Genres\", IntegerType(), True),\n",
        "]\n",
        "\n",
        "finalStruct = StructType(fields=newGPS)\n",
        "\n",
        "datagoogleplaystore = spark.read.csv('googleplaystore.csv', header=True, inferSchema=True)\n",
        "datagoogleplaystore.printSchema()"
      ],
      "execution_count": 9,
      "outputs": [
        {
          "output_type": "stream",
          "text": [
            "root\n",
            " |-- App: string (nullable = true)\n",
            " |-- Category: string (nullable = true)\n",
            " |-- Rating: string (nullable = true)\n",
            " |-- Reviews: string (nullable = true)\n",
            " |-- Size: string (nullable = true)\n",
            " |-- Installs: string (nullable = true)\n",
            " |-- Type: string (nullable = true)\n",
            " |-- Price: string (nullable = true)\n",
            " |-- Content Rating: string (nullable = true)\n",
            " |-- Genres: string (nullable = true)\n",
            " |-- Last Updated: string (nullable = true)\n",
            " |-- Current Ver: string (nullable = true)\n",
            " |-- Android Ver: string (nullable = true)\n",
            "\n"
          ],
          "name": "stdout"
        }
      ]
    },
    {
      "cell_type": "markdown",
      "metadata": {
        "id": "qmgxs2d33lwr",
        "colab_type": "text"
      },
      "source": [
        "**MENGECEK APAKAH ADA DATA YANG NULL**"
      ]
    },
    {
      "cell_type": "code",
      "metadata": {
        "id": "FFznGd6P3pE5",
        "colab_type": "code",
        "colab": {
          "base_uri": "https://localhost:8080/",
          "height": 251
        },
        "outputId": "d409fb4b-e9b1-4a57-cb9f-ff63d1b7feb6"
      },
      "source": [
        "table = ['App', 'Category', 'Rating', 'Reviews', 'Size', 'Installs', 'Type', 'Price', 'Content Rating', 'Genres', 'Last Updated', 'Current Ver', 'Android Ver']\n",
        "\n",
        "for kolom in table:\n",
        "  print('jumlah data yang bernilai null pada colom ', kolom, ' : ', datagoogleplaystore.where(col(kolom).isNull()).count())"
      ],
      "execution_count": 10,
      "outputs": [
        {
          "output_type": "stream",
          "text": [
            "jumlah data yang bernilai null pada colom  App  :  0\n",
            "jumlah data yang bernilai null pada colom  Category  :  0\n",
            "jumlah data yang bernilai null pada colom  Rating  :  0\n",
            "jumlah data yang bernilai null pada colom  Reviews  :  0\n",
            "jumlah data yang bernilai null pada colom  Size  :  0\n",
            "jumlah data yang bernilai null pada colom  Installs  :  0\n",
            "jumlah data yang bernilai null pada colom  Type  :  0\n",
            "jumlah data yang bernilai null pada colom  Price  :  0\n",
            "jumlah data yang bernilai null pada colom  Content Rating  :  1\n",
            "jumlah data yang bernilai null pada colom  Genres  :  0\n",
            "jumlah data yang bernilai null pada colom  Last Updated  :  0\n",
            "jumlah data yang bernilai null pada colom  Current Ver  :  1\n",
            "jumlah data yang bernilai null pada colom  Android Ver  :  1\n"
          ],
          "name": "stdout"
        }
      ]
    },
    {
      "cell_type": "markdown",
      "metadata": {
        "id": "Rjj05pws4v-N",
        "colab_type": "text"
      },
      "source": [
        "**Pre Processing**"
      ]
    },
    {
      "cell_type": "code",
      "metadata": {
        "id": "HgKic5V54vVG",
        "colab_type": "code",
        "colab": {
          "base_uri": "https://localhost:8080/",
          "height": 305
        },
        "outputId": "0acbd84d-bad4-4b40-a13d-3429c8142ec5"
      },
      "source": [
        "dataPP = datagoogleplaystore.select('App', 'Genres', 'Category')\n",
        "dataPP.show(10)"
      ],
      "execution_count": 11,
      "outputs": [
        {
          "output_type": "stream",
          "text": [
            "+--------------------+--------------------+--------------+\n",
            "|                 App|              Genres|      Category|\n",
            "+--------------------+--------------------+--------------+\n",
            "|Photo Editor & Ca...|        Art & Design|ART_AND_DESIGN|\n",
            "| Coloring book moana|Art & Design;Pret...|ART_AND_DESIGN|\n",
            "|U Launcher Lite –...|        Art & Design|ART_AND_DESIGN|\n",
            "|Sketch - Draw & P...|        Art & Design|ART_AND_DESIGN|\n",
            "|Pixel Draw - Numb...|Art & Design;Crea...|ART_AND_DESIGN|\n",
            "|Paper flowers ins...|        Art & Design|ART_AND_DESIGN|\n",
            "|Smoke Effect Phot...|        Art & Design|ART_AND_DESIGN|\n",
            "|    Infinite Painter|        Art & Design|ART_AND_DESIGN|\n",
            "|Garden Coloring Book|        Art & Design|ART_AND_DESIGN|\n",
            "|Kids Paint Free -...|Art & Design;Crea...|ART_AND_DESIGN|\n",
            "+--------------------+--------------------+--------------+\n",
            "only showing top 10 rows\n",
            "\n"
          ],
          "name": "stdout"
        }
      ]
    },
    {
      "cell_type": "code",
      "metadata": {
        "id": "-K0oFRv17Bch",
        "colab_type": "code",
        "colab": {
          "base_uri": "https://localhost:8080/",
          "height": 305
        },
        "outputId": "234656fd-a9f5-4564-f029-2b653fc3313b"
      },
      "source": [
        "datagoogleplaystore.groupby(\"Genres\", \"Category\").count().sort(col(\"count\").desc()).show(10, False)"
      ],
      "execution_count": 12,
      "outputs": [
        {
          "output_type": "stream",
          "text": [
            "+---------------+---------------+-----+\n",
            "|Genres         |Category       |count|\n",
            "+---------------+---------------+-----+\n",
            "|Tools          |TOOLS          |842  |\n",
            "|Entertainment  |FAMILY         |487  |\n",
            "|Medical        |MEDICAL        |463  |\n",
            "|Business       |BUSINESS       |460  |\n",
            "|Productivity   |PRODUCTIVITY   |424  |\n",
            "|Education      |FAMILY         |420  |\n",
            "|Personalization|PERSONALIZATION|392  |\n",
            "|Communication  |COMMUNICATION  |387  |\n",
            "|Sports         |SPORTS         |384  |\n",
            "|Lifestyle      |LIFESTYLE      |381  |\n",
            "+---------------+---------------+-----+\n",
            "only showing top 10 rows\n",
            "\n"
          ],
          "name": "stdout"
        }
      ]
    },
    {
      "cell_type": "markdown",
      "metadata": {
        "id": "EkkvYfkVD6yj",
        "colab_type": "text"
      },
      "source": [
        "**Pemrosesan Data**"
      ]
    },
    {
      "cell_type": "code",
      "metadata": {
        "id": "yxwMRERND-vx",
        "colab_type": "code",
        "colab": {}
      },
      "source": [
        "data_chart = datagoogleplaystore.select('App', 'Rating', 'Category', 'Genres')\n",
        "art_design = data_chart.filter(data_chart.Genres == 'Art & Design')\n",
        "art_design = art_design.filter(data_chart.Rating <= 5.0)\n",
        "art_design = art_design.orderBy('Rating', ascending=False)"
      ],
      "execution_count": 13,
      "outputs": []
    },
    {
      "cell_type": "markdown",
      "metadata": {
        "id": "6T2TL91tO6Wr",
        "colab_type": "text"
      },
      "source": [
        "**Visualisasi Data**"
      ]
    },
    {
      "cell_type": "code",
      "metadata": {
        "id": "7mUpfloHKhPt",
        "colab_type": "code",
        "colab": {
          "base_uri": "https://localhost:8080/",
          "height": 278
        },
        "outputId": "fed6472c-b924-4442-80ac-23cf9126d7e8"
      },
      "source": [
        "fig, axes = plt.subplots()\n",
        "fig.set_size_inches(20, 5)\n",
        "\n",
        "plt.title('TOP 10 APLIKASI GENRE ART & DESIGN')\n",
        "\n",
        "for i in range(10):\n",
        "  plt.bar(art_design.collect()[i][0], art_design.collect()[i][1])\n"
      ],
      "execution_count": 14,
      "outputs": [
        {
          "output_type": "display_data",
          "data": {
            "image/png": "[encoded data removed]",
            "text/plain": [
              "<Figure size 1440x360 with 1 Axes>"
            ]
          },
          "metadata": {
            "tags": [],
            "needs_background": "light"
          }
        }
      ]
    }
  ]
}