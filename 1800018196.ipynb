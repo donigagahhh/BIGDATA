{
  "nbformat": 4,
  "nbformat_minor": 0,
  "metadata": {
    "colab": {
      "name": "Untitled0.ipynb",
      "provenance": [],
      "authorship_tag": "ABX9TyPEle+ptxQxI5+BE2jNvNpe",
      "include_colab_link": true
    },
    "kernelspec": {
      "name": "python3",
      "display_name": "Python 3"
    }
  },
  "cells": [
    {
      "cell_type": "markdown",
      "metadata": {
        "id": "view-in-github",
        "colab_type": "text"
      },
      "source": [
        "<a href=\"https://colab.research.google.com/github/donigagahhh/BIGDATA/blob/master/1800018196.ipynb\" target=\"_parent\"><img src=\"https://colab.research.google.com/assets/colab-badge.svg\" alt=\"Open In Colab\"/></a>"
      ]
    },
    {
      "cell_type": "markdown",
      "metadata": {
        "id": "l3fSoj_2o3uf",
        "colab_type": "text"
      },
      "source": [
        ""
      ]
    },
    {
      "cell_type": "markdown",
      "metadata": {
        "id": "bpiG5fhopDMV",
        "colab_type": "text"
      },
      "source": [
        "**PERHITUNGAN JUMLAH 10 APLIKASI TERATAS YANG PALING BANYAK DI INSTALL BERDASARKAN GENRE ATAU KATEGORI**\n"
      ]
    },
    {
      "cell_type": "markdown",
      "metadata": {
        "id": "QDvsinGGqjjm",
        "colab_type": "text"
      },
      "source": [
        "NAMA : DONI GAGAH PRAMUDYA\n",
        "NIM : 1800018196"
      ]
    },
    {
      "cell_type": "markdown",
      "metadata": {
        "id": "WdzvYA2IrSrd",
        "colab_type": "text"
      },
      "source": [
        "INSTALL SPARK PADA GOOGLE COLAB"
      ]
    },
    {
      "cell_type": "code",
      "metadata": {
        "id": "U65yZ3H6sMx6",
        "colab_type": "code",
        "colab": {}
      },
      "source": [
        "! apt-get install openjdk-8-jdk-headless -qq > /dev/null\n",
        "! wget -q https://downloads.apache.org/spark/spark-2.4.6/spark-2.4.6-bin-hadoop2.7.tgz\n",
        "! tar xf spark-2.4.6-bin-hadoop2.7.tgz\n",
        "! pip install -q findspark\n",
        "! pip install pyspark_dist_explore"
      ],
      "execution_count": null,
      "outputs": []
    },
    {
      "cell_type": "code",
      "metadata": {
        "id": "zONlaoT2pPuU",
        "colab_type": "code",
        "colab": {}
      },
      "source": [
        ""
      ],
      "execution_count": null,
      "outputs": []
    }
  ]
}